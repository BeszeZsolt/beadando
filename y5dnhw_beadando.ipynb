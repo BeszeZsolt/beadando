{
    "metadata": {
        "kernelspec": {
            "name": "SQL",
            "display_name": "SQL",
            "language": "sql"
        },
        "language_info": {
            "name": "sql",
            "version": ""
        }
    },
    "nbformat_minor": 2,
    "nbformat": 4,
    "cells": [
        {
            "cell_type": "markdown",
            "source": [
                "# **\"Oktatok\" tábla**\n",
                "\n",
                "## 1\\. \"beosztás\" oszlop\n",
                "\n",
                "### a) Az oktatók beosztás id-jának/\"szintjének\" a legmagasabb, legalacsonyabb előfordulása, valamint a beosztások \"szintjének\" átlaga, szórása, varianciája."
            ],
            "metadata": {
                "language": "sql",
                "azdata_cell_guid": "d487158a-3e0e-4d25-9a3b-20900e6e0921"
            },
            "attachments": {}
        },
        {
            "cell_type": "code",
            "source": [
                "SELECT MIN(beosztás) AS 'Legkisebb', \r\n",
                "       MAX(beosztás) AS 'Legnagyobb', \r\n",
                "       AVG(beosztás) AS 'Átlag', \r\n",
                "       STDEV(beosztás) AS 'Szórás', \r\n",
                "       VAR(beosztás) AS 'Variancia'\r\n",
                "FROM Oktatok"
            ],
            "metadata": {
                "language": "sql",
                "azdata_cell_guid": "5d67e4ae-1777-47a3-9454-90d44a49134c",
                "tags": []
            },
            "outputs": [
                {
                    "output_type": "display_data",
                    "data": {
                        "text/html": "(1 row affected)"
                    },
                    "metadata": {}
                },
                {
                    "output_type": "display_data",
                    "data": {
                        "text/html": "Total execution time: 00:00:00.018"
                    },
                    "metadata": {}
                },
                {
                    "output_type": "execute_result",
                    "execution_count": 174,
                    "data": {
                        "application/vnd.dataresource+json": {
                            "schema": {
                                "fields": [
                                    {
                                        "name": "Legkisebb"
                                    },
                                    {
                                        "name": "Legnagyobb"
                                    },
                                    {
                                        "name": "Átlag"
                                    },
                                    {
                                        "name": "Szórás"
                                    },
                                    {
                                        "name": "Variancia"
                                    }
                                ]
                            },
                            "data": [
                                {
                                    "Legkisebb": "1",
                                    "Legnagyobb": "6",
                                    "Átlag": "2",
                                    "Szórás": "1,8330302779823358",
                                    "Variancia": "3,3599999999999994"
                                }
                            ]
                        },
                        "text/html": "<table><tr><th>Legkisebb</th><th>Legnagyobb</th><th>Átlag</th><th>Szórás</th><th>Variancia</th></tr><tr><td>1</td><td>6</td><td>2</td><td>1,8330302779823358</td><td>3,3599999999999994</td></tr></table>"
                    },
                    "metadata": {
                        "azdata_chartOptions": {
                            "type": "table",
                            "dataDirection": "horizontal",
                            "columnsAsLabels": true,
                            "labelFirstColumn": false,
                            "legendPosition": "top"
                        }
                    }
                }
            ],
            "execution_count": 174
        },
        {
            "cell_type": "markdown",
            "source": [
                "### b) A beosztások \"átlagszintje\" alá, rá és fölé eső oktatók százaléka."
            ],
            "metadata": {
                "language": "sql",
                "azdata_cell_guid": "aac4ae58-3466-48e0-9d51-a04acf9782a8"
            },
            "attachments": {}
        },
        {
            "cell_type": "code",
            "source": [
                "SELECT (SELECT COUNT(*) FROM Oktatok WHERE beosztás < (SELECT AVG(beosztás) FROM Oktatok))*100/COUNT(*) AS 'Átlag alatti (%)',\r\n",
                "       (SELECT COUNT(*) FROM Oktatok WHERE beosztás = (SELECT AVG(beosztás) FROM Oktatok))*100/COUNT(*) AS 'Átlagos (%)',\r\n",
                "       (SELECT COUNT(*) FROM Oktatok WHERE beosztás > (SELECT AVG(beosztás) FROM Oktatok))*100/COUNT(*) AS 'Átlag feletti (%)'\r\n",
                "FROM Oktatok"
            ],
            "metadata": {
                "language": "sql",
                "azdata_cell_guid": "205eb146-8654-4d36-a02f-f10e4b41106b",
                "tags": []
            },
            "outputs": [
                {
                    "output_type": "display_data",
                    "data": {
                        "text/html": "(1 row affected)"
                    },
                    "metadata": {}
                },
                {
                    "output_type": "display_data",
                    "data": {
                        "text/html": "Total execution time: 00:00:00.015"
                    },
                    "metadata": {}
                },
                {
                    "output_type": "execute_result",
                    "execution_count": 175,
                    "data": {
                        "application/vnd.dataresource+json": {
                            "schema": {
                                "fields": [
                                    {
                                        "name": "Átlag alatti (%)"
                                    },
                                    {
                                        "name": "Átlagos (%)"
                                    },
                                    {
                                        "name": "Átlag feletti (%)"
                                    }
                                ]
                            },
                            "data": [
                                {
                                    "Átlag alatti (%)": "32",
                                    "Átlagos (%)": "20",
                                    "Átlag feletti (%)": "48"
                                }
                            ]
                        },
                        "text/html": "<table><tr><th>Átlag alatti (%)</th><th>Átlagos (%)</th><th>Átlag feletti (%)</th></tr><tr><td>32</td><td>20</td><td>48</td></tr></table>"
                    },
                    "metadata": {
                        "azdata_chartOptions": {
                            "type": "doughnut",
                            "dataDirection": "horizontal",
                            "columnsAsLabels": true,
                            "labelFirstColumn": false,
                            "legendPosition": "top",
                            "dataType": "number"
                        }
                    }
                }
            ],
            "execution_count": 175
        },
        {
            "cell_type": "markdown",
            "source": [
                "### c) A különböző beosztású tanárok darabszáma."
            ],
            "metadata": {
                "azdata_cell_guid": "71cb61a6-9410-4e86-87e0-6d85bd474ea0"
            },
            "attachments": {}
        },
        {
            "cell_type": "code",
            "source": [
                "SELECT b.beosztasnev AS 'Beosztásnév', /*b.beosztas_id AS 'Beosztás id.',*/ COUNT(o.oktato_id) AS 'Darabszám'\r\n",
                "FROM Oktatok o RIGHT JOIN Beosztasok b ON o.beosztás=b.beosztas_id\r\n",
                "GROUP BY b.beosztas_id, b.beosztasnev\r\n",
                "ORDER BY COUNT(o.oktato_id) DESC"
            ],
            "metadata": {
                "azdata_cell_guid": "9a84b081-4bca-4b48-95a9-7916d3fa9479",
                "language": "sql"
            },
            "outputs": [
                {
                    "output_type": "display_data",
                    "data": {
                        "text/html": "(7 rows affected)"
                    },
                    "metadata": {}
                },
                {
                    "output_type": "display_data",
                    "data": {
                        "text/html": "Total execution time: 00:00:00.014"
                    },
                    "metadata": {}
                },
                {
                    "output_type": "execute_result",
                    "execution_count": 176,
                    "data": {
                        "application/vnd.dataresource+json": {
                            "schema": {
                                "fields": [
                                    {
                                        "name": "Beosztásnév"
                                    },
                                    {
                                        "name": "Darabszám"
                                    }
                                ]
                            },
                            "data": [
                                {
                                    "Beosztásnév": "Óraadó",
                                    "Darabszám": "8"
                                },
                                {
                                    "Beosztásnév": "Tanársegéd",
                                    "Darabszám": "5"
                                },
                                {
                                    "Beosztásnév": "Docens",
                                    "Darabszám": "4"
                                },
                                {
                                    "Beosztásnév": "Egyetemi tanár",
                                    "Darabszám": "4"
                                },
                                {
                                    "Beosztásnév": "Adjunktus",
                                    "Darabszám": "3"
                                },
                                {
                                    "Beosztásnév": "Professzor",
                                    "Darabszám": "1"
                                },
                                {
                                    "Beosztásnév": "Tudományos munkatárs",
                                    "Darabszám": "0"
                                }
                            ]
                        },
                        "text/html": "<table><tr><th>Beosztásnév</th><th>Darabszám</th></tr><tr><td>Óraadó</td><td>8</td></tr><tr><td>Tanársegéd</td><td>5</td></tr><tr><td>Docens</td><td>4</td></tr><tr><td>Egyetemi tanár</td><td>4</td></tr><tr><td>Adjunktus</td><td>3</td></tr><tr><td>Professzor</td><td>1</td></tr><tr><td>Tudományos munkatárs</td><td>0</td></tr></table>"
                    },
                    "metadata": {
                        "azdata_chartOptions": {
                            "type": "bar",
                            "dataDirection": "horizontal",
                            "columnsAsLabels": true,
                            "labelFirstColumn": true,
                            "legendPosition": "top",
                            "yAxisMax": 10,
                            "dataType": "number",
                            "encoding": "hex",
                            "imageFormat": "jpeg"
                        }
                    }
                }
            ],
            "execution_count": 176
        },
        {
            "cell_type": "markdown",
            "source": [
                "## 2\\. \"titulus\" oszlop\n",
                "\n",
                "### a) Az oszlopban szereplő minden titulus"
            ],
            "metadata": {
                "azdata_cell_guid": "ee24b764-faf4-46a4-a09c-70d6500c96ae"
            },
            "attachments": {}
        },
        {
            "cell_type": "code",
            "source": [
                "SELECT titulus AS \"Titulus\", COUNT(*) AS \"Darabszám\"\r\n",
                "FROM Oktatok\r\n",
                "WHERE titulus IS NOT NULL\r\n",
                "GROUP BY titulus\r\n",
                "ORDER BY COUNT(*)"
            ],
            "metadata": {
                "azdata_cell_guid": "f7f3e858-a784-4c6f-bded-e36a5e18ad2d",
                "language": "sql",
                "tags": []
            },
            "outputs": [
                {
                    "output_type": "display_data",
                    "data": {
                        "text/html": "(3 rows affected)"
                    },
                    "metadata": {}
                },
                {
                    "output_type": "display_data",
                    "data": {
                        "text/html": "Total execution time: 00:00:00.013"
                    },
                    "metadata": {}
                },
                {
                    "output_type": "execute_result",
                    "execution_count": 177,
                    "data": {
                        "application/vnd.dataresource+json": {
                            "schema": {
                                "fields": [
                                    {
                                        "name": "Titulus"
                                    },
                                    {
                                        "name": "Darabszám"
                                    }
                                ]
                            },
                            "data": [
                                {
                                    "Titulus": "Prof, tanszékvezető",
                                    "Darabszám": "1"
                                },
                                {
                                    "Titulus": "Prof.",
                                    "Darabszám": "1"
                                },
                                {
                                    "Titulus": "Dr.",
                                    "Darabszám": "8"
                                }
                            ]
                        },
                        "text/html": "<table><tr><th>Titulus</th><th>Darabszám</th></tr><tr><td>Prof, tanszékvezető</td><td>1</td></tr><tr><td>Prof.</td><td>1</td></tr><tr><td>Dr.</td><td>8</td></tr></table>"
                    },
                    "metadata": {
                        "azdata_chartOptions": {
                            "type": "table",
                            "dataDirection": "horizontal",
                            "columnsAsLabels": true,
                            "labelFirstColumn": false,
                            "legendPosition": "top"
                        }
                    }
                }
            ],
            "execution_count": 177
        },
        {
            "cell_type": "markdown",
            "source": [
                "### b) Azon oktatók aránya, akik nem rendelkeznek titulussal."
            ],
            "metadata": {
                "azdata_cell_guid": "d7001ccb-9d84-4c04-a16d-0adaf980816f"
            },
            "attachments": {}
        },
        {
            "cell_type": "code",
            "source": [
                "SELECT (SELECT COUNT(*) FROM Oktatok WHERE titulus IS NULL)*100/COUNT(*) AS 'Nincs titulus(%)',\r\n",
                "       (SELECT COUNT(*) FROM Oktatok WHERE titulus IS NOT NULL)*100/COUNT(*) AS 'Van titulus(%)'\r\n",
                "FROM Oktatok"
            ],
            "metadata": {
                "azdata_cell_guid": "3e50de1d-5f6c-481d-bb0d-7bd65b84a262",
                "language": "sql"
            },
            "outputs": [
                {
                    "output_type": "display_data",
                    "data": {
                        "text/html": "(1 row affected)"
                    },
                    "metadata": {}
                },
                {
                    "output_type": "display_data",
                    "data": {
                        "text/html": "Total execution time: 00:00:00.015"
                    },
                    "metadata": {}
                },
                {
                    "output_type": "execute_result",
                    "execution_count": 178,
                    "data": {
                        "application/vnd.dataresource+json": {
                            "schema": {
                                "fields": [
                                    {
                                        "name": "Nincs titulus(%)"
                                    },
                                    {
                                        "name": "Van titulus(%)"
                                    }
                                ]
                            },
                            "data": [
                                {
                                    "Nincs titulus(%)": "60",
                                    "Van titulus(%)": "40"
                                }
                            ]
                        },
                        "text/html": "<table><tr><th>Nincs titulus(%)</th><th>Van titulus(%)</th></tr><tr><td>60</td><td>40</td></tr></table>"
                    },
                    "metadata": {
                        "azdata_chartOptions": {
                            "type": "pie",
                            "dataDirection": "horizontal",
                            "columnsAsLabels": true,
                            "labelFirstColumn": false,
                            "legendPosition": "top"
                        }
                    }
                }
            ],
            "execution_count": 178
        },
        {
            "cell_type": "markdown",
            "source": [
                "### c) Azon oktatók száma, akiknek több titulusa van."
            ],
            "metadata": {
                "language": "sql",
                "azdata_cell_guid": "7e67319e-8446-4b0e-ae7d-f67afb8d9e55"
            },
            "attachments": {}
        },
        {
            "cell_type": "code",
            "source": [
                "SELECT COUNT(*) AS \"Darabszám\"\r\n",
                "FROM Oktatok\r\n",
                "WHERE CHARINDEX(',' , titulus)<>0"
            ],
            "metadata": {
                "azdata_cell_guid": "922a616d-5ff2-4dca-8c75-0df5e529322d",
                "language": "sql",
                "tags": []
            },
            "outputs": [
                {
                    "output_type": "display_data",
                    "data": {
                        "text/html": "(1 row affected)"
                    },
                    "metadata": {}
                },
                {
                    "output_type": "display_data",
                    "data": {
                        "text/html": "Total execution time: 00:00:00.012"
                    },
                    "metadata": {}
                },
                {
                    "output_type": "execute_result",
                    "execution_count": 179,
                    "data": {
                        "application/vnd.dataresource+json": {
                            "schema": {
                                "fields": [
                                    {
                                        "name": "Darabszám"
                                    }
                                ]
                            },
                            "data": [
                                {
                                    "Darabszám": "1"
                                }
                            ]
                        },
                        "text/html": "<table><tr><th>Darabszám</th></tr><tr><td>1</td></tr></table>"
                    },
                    "metadata": {}
                }
            ],
            "execution_count": 179
        }
    ]
}